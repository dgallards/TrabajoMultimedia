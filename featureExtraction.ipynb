{
 "cells": [
  {
   "cell_type": "markdown",
   "metadata": {},
   "source": [
    "*Autenticación de hablante en base a entrada de audio\n",
    "\n",
    "El objetivo de este notebook es la creación de una red neuronal convolucional capaz de distinguir entre parlantes en base al audio entrante y discernir si alguno de ellos es conocido en la base de datos.\n",
    "\n",
    "Para conseguir esto, primero se preprocesará el audio, tras lo cual se extraerán las MFCC features, que serán las que se utilicen para la red neuronal.\n",
    "Luego se cargará el dataset de voces conocidas usadas para entrenar la red neuronal junto con la nueva entrada de audio.\n",
    "Tras eso, se entrenará la red neuronal con los datos de entrenamiento y se evaluará con los datos de test. Si la salida coincide con uno de los usuarios almacenados en la base de datos."
   ]
  },
  {
   "cell_type": "code",
   "execution_count": 29,
   "metadata": {},
   "outputs": [],
   "source": [
    "#load the information from data folder\n",
    "import python_speech_features as mfcc\n",
    "from sklearn import preprocessing\n",
    "import numpy as np\n",
    "import matplotlib.pyplot as plt\n",
    "from matplotlib.colors import Normalize\n",
    "from matplotlib import cm\n",
    "from scipy.io import wavfile\n",
    "import librosa\n",
    "import librosa.display\n",
    "from librosa.display import waveshow as waveplot\n",
    "import soundfile\n",
    "import os\n",
    "import gridfs\n",
    "import import_ipynb\n",
    "import database"
   ]
  },
  {
   "cell_type": "markdown",
   "metadata": {},
   "source": [
    "Calculates the delta of a given mfcc features array.\n",
    "\n",
    "A delta is a coefficient that helps compute and recognize speech patterns much more easily using the MFCC features.\n",
    "\n",
    "The formula used to calculate the delta is: dt=∑Nn=1n(ct+n−ct−n)2∑Nn=1n2, where ct is the current MFCC feature, n is the number of the MFCC feature and dt is the delta of the MFCC feature."
   ]
  },
  {
   "cell_type": "code",
   "execution_count": 30,
   "metadata": {},
   "outputs": [],
   "source": [
    "def calculate_delta(array):\n",
    "    rows,cols = array.shape\n",
    "    deltas = np.zeros((rows,20))\n",
    "    N = 2\n",
    "    for i in range(rows):\n",
    "        index = []\n",
    "        j = 1\n",
    "        while j <= N:\n",
    "            if i-j < 0:\n",
    "                first = 0\n",
    "            else:\n",
    "                first = i-j\n",
    "            if i+j > rows -1:\n",
    "                second = rows -1\n",
    "            else:\n",
    "                second = i+j\n",
    "            index.append((second,first))\n",
    "            j+=1\n",
    "        deltas[i] = ( array[index[0][0]]-array[index[0][1]] + (2 * (array[index[1][0]]-array[index[1][1]])) ) / 10\n",
    "    return deltas"
   ]
  },
  {
   "cell_type": "markdown",
   "metadata": {},
   "source": [
    "First, it preprocesses a given audio, then it extracts the MFCC features and calculates the delta of the features.\n",
    "\n",
    "Both the MFCC and the delta are returned in a single 2D array."
   ]
  },
  {
   "cell_type": "code",
   "execution_count": 45,
   "metadata": {},
   "outputs": [
    {
     "name": "stdout",
     "output_type": "stream",
     "text": [
      "<class 'pymongo.mongo_client.MongoClient'>\n",
      "<class 'pymongo.mongo_client.MongoClient'>\n",
      "<class 'pymongo.mongo_client.MongoClient'>\n",
      "<class 'pymongo.mongo_client.MongoClient'>\n",
      "<class 'pymongo.mongo_client.MongoClient'>\n"
     ]
    }
   ],
   "source": [
    "def extract_features(audio,rate):\n",
    "\n",
    "    mfc_coefficients = np.squeeze(librosa.feature.mfcc(y=audio, sr=rate, n_mfcc=20, hop_length=8000, n_fft=320))\n",
    "    deltas = librosa.feature.delta(mfc_coefficients, mode='nearest')\n",
    "\n",
    "    \n",
    "    combined = np.hstack((mfc_coefficients, deltas))\n",
    "\n",
    "    print(np.min(combined), np.max(combined), np.mean(combined), np.std(combined))\n",
    "    print(mfc_coefficients.shape, deltas.shape, combined.shape)\n",
    "    plt.plot(combined)\n",
    "\n",
    "    return combined\n",
    "\n",
    "db = database.connect_to_database()\n",
    "for i, filename in enumerate(os.listdir(os.getcwd())):\n",
    "    if not filename.endswith(\".wav\"):\n",
    "        continue\n",
    "    with soundfile.SoundFile(filename) as audio:\n",
    "        waveform = audio.read(dtype=\"float32\")\n",
    "        sample_rate = audio.samplerate\n",
    "        features = None\n",
    "        #extract_features(waveform, sample_rate)\n",
    "        user = \"user \" + str(i)\n",
    "        password = \"password \" + str(i)\n",
    "        email = \"sexydiegus6969\" + str(i) + \"@gmail.com\"\n",
    "        model = None\n",
    "        print(type(db))\n",
    "\n",
    "\n",
    "        database.addUser(db.users, database.createUser(user, email, password.encode('utf-8'), features, model))\n",
    "\n"
   ]
  },
  {
   "cell_type": "code",
   "execution_count": 60,
   "metadata": {},
   "outputs": [],
   "source": [
    "db.list_database_names()\n",
    "for user in db.users.users.find():\n",
    "    db.users.users.delete_one(user)"
   ]
  }
 ],
 "metadata": {
  "kernelspec": {
   "display_name": "Python 3",
   "language": "python",
   "name": "python3"
  },
  "language_info": {
   "codemirror_mode": {
    "name": "ipython",
    "version": 3
   },
   "file_extension": ".py",
   "mimetype": "text/x-python",
   "name": "python",
   "nbconvert_exporter": "python",
   "pygments_lexer": "ipython3",
   "version": "3.9.7"
  }
 },
 "nbformat": 4,
 "nbformat_minor": 2
}
