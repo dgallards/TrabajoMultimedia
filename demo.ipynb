{
 "cells": [
  {
   "cell_type": "markdown",
   "metadata": {},
   "source": [
    "## SECUREMAILING.VOICE\n",
    "\n",
    "¿No estás cansado de que te roben la cuenta de correo o de robar correos tan fácilmente?\n",
    "\n",
    "Te presentamos Securemailing.voice, tu deficiente app encargada de reconocerte a ti y solo a ti para enviar correos de una forma más segura.\n",
    "\n",
    "Con, no solo uno, si no dos mecanismos de seguridad para garantizarte los estándares más elevados de seguridad de un país del tercer mundo, por el modico precio de 3 copilots.\n",
    "\n",
    "--------------------------------------------------------------------------------\n",
    "\n",
    "El objetivo de este proyecto es crear un pequeño programa capaz de identificar usuarios a partir de una voz y una contraseña únicas utilizando Machine Learning.\n",
    "Para ello ofrece una interfaz gráfica con varias funciones básicas implementadas, tales como la creación de usuario y su inicio de sesión, gestión de credenciales y envío de correos.\n",
    "\n",
    "Se utiliza una gran cantidad de tecnologías en el proyecto tales como MongoDB, PyQt, Cloud Speech o Machine Learning entre otras.\n",
    "\n",
    "Si bien el Jupyter Notebook vale como una pequeña demo limitada para mostrar el proceso técnico que el programa usa, la versión en Python ofrece la interfaz gráfica y más libertad en las acciones a escoger.\n",
    "\n",
    "Con esto dicho, vamos al meollo.\n",
    "\n",
    "--------------------------------------------------------------------------------\n",
    "\n",
    "El procedimiento a seguir en la demo es el siguiente:\n",
    "\n",
    "- Creación de un usuario nuevo.\n",
    "    - Toma de credenciales.\n",
    "    - Toma de voz.\n",
    "- Creación del modelo.\n",
    "- Inicio de sesión.\n",
    "- Envío de correo.\n",
    "- Borrado de usuario.\n"
   ]
  },
  {
   "cell_type": "markdown",
   "metadata": {},
   "source": [
    "### Creación de usuario\n",
    "\n",
    "En este proceso se observa como los usuarios dan sus credenciales y su voz es grabada para ser registrados en la base de datos.\n",
    "Inicialmente se debe conectar el programa con el servidor de la BD.\n"
   ]
  },
  {
   "cell_type": "code",
   "execution_count": 1,
   "metadata": {},
   "outputs": [],
   "source": [
    "from pymongo import MongoClient\n",
    "server = MongoClient('localhost', 27017)\n",
    "db = server.users"
   ]
  },
  {
   "cell_type": "markdown",
   "metadata": {},
   "source": [
    "Una vez conectado, se pregunta al usuario por sus credenciales."
   ]
  },
  {
   "cell_type": "code",
   "execution_count": 2,
   "metadata": {},
   "outputs": [
    {
     "name": "stdout",
     "output_type": "stream",
     "text": [
      "Por favor, introduzca su nombre\n",
      "Por favor, introduzca su contraseña\n",
      "Por favor, introduzca su correo electrónico\n",
      "{'username': 'Luis ', 'password': 'Perro', 'email': 'lumunuera@alumnos.unex.es'}\n"
     ]
    }
   ],
   "source": [
    "import getpass\n",
    "user = {}\n",
    "print(\"Por favor, introduzca su nombre\")\n",
    "user[\"username\"] = input()\n",
    "print(\"Por favor, introduzca su contraseña\")\n",
    "user[\"password\"] = getpass.getpass()\n",
    "print(\"Por favor, introduzca su correo electrónico\")\n",
    "user[\"email\"] = input()\n",
    "print(user)"
   ]
  },
  {
   "cell_type": "markdown",
   "metadata": {},
   "source": [
    "Una vez obtenidas las credenciales se graba la voz del usuario."
   ]
  },
  {
   "cell_type": "code",
   "execution_count": 3,
   "metadata": {},
   "outputs": [
    {
     "name": "stdout",
     "output_type": "stream",
     "text": [
      "Por favor, lee la siguiente frase:\n",
      "Yo ofrezco desnudas, vírgenes, intactas y sencillas, para mis delicias y el placer de mis amigos, estas noches árabes vividas, soñadas y traducidas sobre su tierra natal y sobre el agua Ellas me fueron dulces durante los ocios en remotos mares, bajo un cielo ahora lejano. Por eso las doy.\n",
      "\n",
      "¡Voz obtenida!\n"
     ]
    }
   ],
   "source": [
    "import sounddevice as sd\n",
    "from scipy.io.wavfile import write\n",
    "\n",
    "fs = 44100\n",
    "sd._initialize()\n",
    "sd.default.samplerate = fs\n",
    "sd.default.channels = 2\n",
    "print(\"Por favor, lee la siguiente frase:\")\n",
    "print(\"Yo ofrezco desnudas, vírgenes, intactas y sencillas, para mis delicias y el placer de mis amigos, estas noches árabes vividas, soñadas y traducidas sobre su tierra natal y sobre el agua Ellas me fueron dulces durante los ocios en remotos mares, bajo un cielo ahora lejano. Por eso las doy.\")\n",
    "waveform = sd.rec(int(10 * fs), samplerate=fs, channels=2)\n",
    "sd.wait()\n",
    "\n",
    "write(\"audios/\" + user[\"username\"] + \".wav\", fs, waveform)\n",
    "print(\"\\n¡Voz obtenida!\")"
   ]
  },
  {
   "cell_type": "markdown",
   "metadata": {},
   "source": [
    "Ahora se extraen las features de la voz grabada, para ello nos ayudamos en librosa.\n",
    "Se hacen algunos ajustes en el audio para que el tratamiento sea ligero."
   ]
  },
  {
   "cell_type": "code",
   "execution_count": 4,
   "metadata": {},
   "outputs": [
    {
     "name": "stdout",
     "output_type": "stream",
     "text": [
      "\n",
      "¡Features obtenidas!\n"
     ]
    },
    {
     "data": {
      "image/png": "[encoded data removed]",
      "text/plain": [
       "<Figure size 432x288 with 1 Axes>"
      ]
     },
     "metadata": {
      "needs_background": "light"
     },
     "output_type": "display_data"
    }
   ],
   "source": [
    "import librosa\n",
    "import librosa.display\n",
    "import numpy as np\n",
    "import matplotlib.pyplot as plt\n",
    "\n",
    "#Conversión del audio\n",
    "waveform_mono = librosa.to_mono(waveform.T)\n",
    "waveform16k_mono = librosa.resample(waveform_mono, orig_sr=fs, target_sr=16000)\n",
    "\n",
    "#Obtención de features\n",
    "obtFeatures = np.squeeze(librosa.feature.mfcc(y=waveform16k_mono, sr=16000, n_mfcc=1)).reshape(-1,1).reshape(1,-1)\n",
    "np.savetxt(\"features/\" + user[\"username\"] + \".csv\", obtFeatures)\n",
    "print(\"\\n¡Features obtenidas!\")\n",
    "\n",
    "plt.plot(obtFeatures[0])\n",
    "plt.title(\"MFCC Features\")\n",
    "plt.show()"
   ]
  },
  {
   "cell_type": "markdown",
   "metadata": {},
   "source": [
    "Con todos los datos necesarios conseguidos, solo queda introducirlos en la base de datos."
   ]
  },
  {
   "cell_type": "code",
   "execution_count": 5,
   "metadata": {},
   "outputs": [
    {
     "name": "stdout",
     "output_type": "stream",
     "text": [
      "¡Usuario creado!\n"
     ]
    }
   ],
   "source": [
    "try:\n",
    "    db.users.insert_one(user)\n",
    "    print(\"¡Usuario creado!\")\n",
    "except:\n",
    "    print(\"Ha ocurrido un problema\")"
   ]
  },
  {
   "cell_type": "markdown",
   "metadata": {},
   "source": [
    "Ahora hay que iniciar sesión, antes de poder hacerlo, hay que generar el modelo de prediccion de Machine Learning.\n",
    "\n",
    "Con este fin, se cargan los archivos de features, un detalle importante es preservar el orden de carga de estos archivos para saber más tarde quién es el objetivo de la predicción del modelo."
   ]
  },
  {
   "cell_type": "code",
   "execution_count": 6,
   "metadata": {},
   "outputs": [],
   "source": [
    "import os\n",
    "nameOrder = []; featureList = []\n",
    "\n",
    "for filename in os.listdir(os.getcwd() + \"/features\"):\n",
    "        features = np.loadtxt(\"features/\" + filename, delimiter=\" \")\n",
    "        featureList.append(features)\n",
    "        nameOrder.append(filename.replace(\".csv\", \"\"))"
   ]
  },
  {
   "cell_type": "markdown",
   "metadata": {},
   "source": [
    "Con las features cargadas, se genera el modelo de predicción, se usa Gaussian Mixture, un modelo muy utilizado para diferenciar el contenido de las ondas."
   ]
  },
  {
   "cell_type": "code",
   "execution_count": 7,
   "metadata": {},
   "outputs": [
    {
     "data": {
      "text/plain": [
       "GaussianMixture(n_components=2)"
      ]
     },
     "execution_count": 7,
     "metadata": {},
     "output_type": "execute_result"
    }
   ],
   "source": [
    "from sklearn.mixture import GaussianMixture\n",
    "\n",
    "gmmModel = GaussianMixture(n_components=len(featureList), covariance_type='full', tol=0.001, reg_covar=0.000001, max_iter=100, n_init=1, init_params='kmeans', weights_init=None, means_init=None, precisions_init=None, random_state=None, warm_start=False, verbose=0, verbose_interval=10)\n",
    "gmmModel.fit(featureList)"
   ]
  },
  {
   "cell_type": "markdown",
   "metadata": {},
   "source": [
    "¡Ya está todo listo para que el usuario pueda iniciar sesión!\n",
    "\n",
    "Recordamos, hay dos condiciones para que el usuario pueda iniciar sesión, ser reconocido por el sistema y decir su contraseña única.\n",
    "\n",
    "Se graba su voz de nuevo y se extraen sus features."
   ]
  },
  {
   "cell_type": "code",
   "execution_count": 8,
   "metadata": {},
   "outputs": [
    {
     "name": "stdout",
     "output_type": "stream",
     "text": [
      "Por favor, di tu contraseña\n",
      "\n",
      "¡Contraseña obtenida!\n"
     ]
    }
   ],
   "source": [
    "from pydub import AudioSegment\n",
    "\n",
    "print(\"Por favor, di tu contraseña\")\n",
    "detectedVoice = sd.rec(int(10 * fs), samplerate=fs, channels=2)\n",
    "sd.wait()\n",
    "print(\"\\n¡Contraseña obtenida!\")\n",
    "\n",
    "write(\"features.wav\", fs, detectedVoice)\n",
    "detectedVoice_mono = librosa.to_mono(detectedVoice.T)\n",
    "detectedVoice16k_mono = librosa.resample(detectedVoice_mono, orig_sr=fs, target_sr=16000)\n",
    "detectedFeatures = np.squeeze(librosa.feature.mfcc(y=waveform16k_mono, sr=16000, n_mfcc=1)).reshape(-1,1).reshape(1,-1)"
   ]
  },
  {
   "cell_type": "markdown",
   "metadata": {},
   "source": [
    "Ahora realizamos un pequeño hack para que funcione la API de Google."
   ]
  },
  {
   "cell_type": "code",
   "execution_count": 9,
   "metadata": {},
   "outputs": [
    {
     "data": {
      "text/plain": [
       "<_io.BufferedRandom name='speech.wav'>"
      ]
     },
     "execution_count": 9,
     "metadata": {},
     "output_type": "execute_result"
    }
   ],
   "source": [
    "#pequeño hack para que la API de Google funcione.\n",
    "sound = AudioSegment.from_wav(\"features.wav\")\n",
    "sound.export(\"speech.wav\", format=\"wav\")"
   ]
  },
  {
   "cell_type": "markdown",
   "metadata": {},
   "source": [
    "Con las features obtenidas, el sistema detecta quién es y qué ha dicho."
   ]
  },
  {
   "cell_type": "code",
   "execution_count": 10,
   "metadata": {},
   "outputs": [
    {
     "name": "stdout",
     "output_type": "stream",
     "text": [
      "\n",
      "¡Usuario detectado: Luis!\n",
      "\n",
      "¡Contraseña detectado: perro!\n"
     ]
    }
   ],
   "source": [
    "import speech_recognition as sr\n",
    "import unidecode\n",
    "\n",
    "#Detección de usuario por voz\n",
    "predictedUser = nameOrder[gmmModel.predict(detectedFeatures)[0]]\n",
    "print(\"\\n¡Usuario detectado: \" + predictedUser + \"!\")\n",
    "\n",
    "#Detección de contraseña por voz\n",
    "speech_to_text = sr.Recognizer()\n",
    "audio = sr.AudioFile('speech.wav')\n",
    "with audio as source:\n",
    "    audio = speech_to_text.record(audio)\n",
    "    transcription = speech_to_text.recognize_google(audio, language=\"es-ES\")\n",
    "    print(\"\\n¡Contraseña detectado: \" + transcription + \"!\")"
   ]
  },
  {
   "cell_type": "markdown",
   "metadata": {},
   "source": [
    "Ahora se comprueba en la base de datos si hay alguna coincidencia.\n",
    "\n",
    "Para esto, se ve si la contraseña registrada en la base de datos tiene una alta similitud con la transcrita por Google."
   ]
  },
  {
   "cell_type": "code",
   "execution_count": 11,
   "metadata": {},
   "outputs": [
    {
     "name": "stdout",
     "output_type": "stream",
     "text": [
      "Inicio de sesión correcto.\n"
     ]
    }
   ],
   "source": [
    "from difflib import SequenceMatcher\n",
    "\n",
    "correctUser = None\n",
    "foundUser = None\n",
    "\n",
    "for foundUser in db.users.find({\"username\": predictedUser}):\n",
    "    ratio = SequenceMatcher(None, unidecode.unidecode(foundUser[\"password\"].lower()), unidecode.unidecode(transcription.lower())).ratio()\n",
    "    if ratio >= 0.8: correctUser = foundUser\n",
    "\n",
    "if foundUser:\n",
    "    user[\"username\"] = foundUser[\"username\"]\n",
    "    user[\"password\"] = foundUser[\"password\"]\n",
    "    user[\"email\"] = foundUser[\"email\"]\n",
    "    print(\"Inicio de sesión correcto.\")\n",
    "else:\n",
    "    print(\"Inicio de sesión fallido.\")"
   ]
  },
  {
   "cell_type": "markdown",
   "metadata": {},
   "source": [
    "Si el usuario ha sido reconocido, éste puede realizar diferentes acciones, desde la gestión de credenciales hasta el envío de correos electrónicos."
   ]
  },
  {
   "cell_type": "code",
   "execution_count": 12,
   "metadata": {},
   "outputs": [
    {
     "name": "stdout",
     "output_type": "stream",
     "text": [
      "Por favor introduce el asunto del correo texto a enviar\n",
      "Por favor introduce el destinatario del correo\n",
      "Por favor introduce el contenido a enviar\n"
     ]
    },
    {
     "data": {
      "text/plain": [
       "<email.message.EmailMessage at 0x7fa6114974c0>"
      ]
     },
     "execution_count": 12,
     "metadata": {},
     "output_type": "execute_result"
    }
   ],
   "source": [
    "from redmail import gmail\n",
    "\n",
    "gmail.username = \"diego.diegogz.gallardo53@gmail.com\"\n",
    "gmail.password = \"xkdpshvcnlnscnhv\"\n",
    "print(\"Por favor introduce el asunto del correo texto a enviar\")\n",
    "subject = input()\n",
    "print(\"Por favor introduce el destinatario del correo\")\n",
    "receiver = input()\n",
    "print(\"Por favor introduce el contenido a enviar\")\n",
    "text = input()\n",
    "gmail.send(subject=subject, receivers = [receiver], text = text, html = text)    "
   ]
  },
  {
   "cell_type": "markdown",
   "metadata": {},
   "source": [
    "Una vez se ha enviado el correo, se procede a borrar al usuario de la base de datos y sus archivos de audio y features."
   ]
  },
  {
   "cell_type": "code",
   "execution_count": 13,
   "metadata": {},
   "outputs": [],
   "source": [
    "db.users.delete_one(user)\n",
    "os.remove(\"features/\" + user[\"username\"] + \".csv\")\n",
    "os.remove(\"audios/\" + user[\"username\"] + \".wav\")"
   ]
  }
 ],
 "metadata": {
  "interpreter": {
   "hash": "916dbcbb3f70747c44a77c7bcd40155683ae19c65e1c03b4aa3499c5328201f1"
  },
  "kernelspec": {
   "display_name": "Python 3.9.7 64-bit",
   "language": "python",
   "name": "python3"
  },
  "language_info": {
   "codemirror_mode": {
    "name": "ipython",
    "version": 3
   },
   "file_extension": ".py",
   "mimetype": "text/x-python",
   "name": "python",
   "nbconvert_exporter": "python",
   "pygments_lexer": "ipython3",
   "version": "3.9.7"
  },
  "orig_nbformat": 4
 },
 "nbformat": 4,
 "nbformat_minor": 2
}
