{
 "cells": [
  {
   "cell_type": "markdown",
   "metadata": {},
   "source": [
    "## SECUREMAILING.VOICE\n",
    "\n",
    "¿No estás cansado de que te roben la cuenta de correo o de robar correos tan fácilmente?\n",
    "\n",
    "Te presentamos Securemailing.voice, tu deficiente app encargada de reconocerte a ti y solo a ti para enviar correos de una forma más segura.\n",
    "\n",
    "Con, no solo uno, si no dos mecanismos de seguridad para garantizarte los estándares más elevados de seguridad de un país del tercer mundo, por el modico precio de 3 copilots.\n",
    "\n",
    "--------------------------------------------------------------------------------\n",
    "\n",
    "El objetivo de este proyecto es crear un pequeño programa capaz de identificar usuarios a partir de una voz y una contraseña únicas utilizando Machine Learning.\n",
    "Para ello ofrece una interfaz gráfica con varias funciones básicas implementadas, tales como la creación de usuario y su inicio de sesión, gestión de credenciales y envío de correos.\n",
    "\n",
    "Se utiliza una gran cantidad de tecnologías en el proyecto tales como MongoDB, PyQt, Cloud Speech o Machine Learning entre otras.\n",
    "\n",
    "Si bien el Jupyter Notebook vale como una pequeña demo limitada para mostrar el proceso técnico que el programa usa, la versión en Python ofrece la interfaz gráfica y más libertad en las acciones a escoger.\n",
    "\n",
    "Con esto dicho, vamos al meollo.\n",
    "\n",
    "--------------------------------------------------------------------------------\n",
    "\n",
    "El procedimiento a seguir en la demo es el siguiente:\n",
    "\n",
    "- Creación de un usuario nuevo.\n",
    "- Inicio de sesión con este.\n",
    "- Manejo de credenciales.\n",
    "- Envío de correo.\n",
    "- Borrado de usuario.\n"
   ]
  },
  {
   "cell_type": "markdown",
   "metadata": {},
   "source": [
    "### Creación de usuario\n",
    "\n",
    "En este proceso se observa como los usuarios dan sus credenciales y su voz es grabada para ser registrados en la base de datos.\n",
    "Inicialmente se debe conectar el programa con el servidor de la BD.\n"
   ]
  },
  {
   "cell_type": "code",
   "execution_count": 2,
   "metadata": {},
   "outputs": [],
   "source": [
    "from pymongo import MongoClient\n",
    "server = MongoClient('localhost', 27017)\n",
    "db = server.users"
   ]
  },
  {
   "cell_type": "markdown",
   "metadata": {},
   "source": [
    "Una vez conectado, se pregunta al usuario por sus credenciales."
   ]
  },
  {
   "cell_type": "code",
   "execution_count": 3,
   "metadata": {},
   "outputs": [
    {
     "name": "stdout",
     "output_type": "stream",
     "text": [
      "Por favor, introduzca su nombre\n",
      "Por favor, introduzca su contraseña\n",
      "Por favor, introduzca su correo electrónico\n",
      "{'username': 'Pablo', 'password': 'Meneses', 'email': 'eofn'}\n"
     ]
    }
   ],
   "source": [
    "import getpass\n",
    "user = {}\n",
    "print(\"Por favor, introduzca su nombre\")\n",
    "user[\"username\"] = input()\n",
    "print(\"Por favor, introduzca su contraseña\")\n",
    "user[\"password\"] = getpass.getpass()\n",
    "print(\"Por favor, introduzca su correo electrónico\")\n",
    "user[\"email\"] = input()\n",
    "print(user)"
   ]
  },
  {
   "cell_type": "markdown",
   "metadata": {},
   "source": [
    "Una vez obtenidas las credenciales se graba la voz del usuario."
   ]
  },
  {
   "cell_type": "code",
   "execution_count": 4,
   "metadata": {},
   "outputs": [
    {
     "name": "stdout",
     "output_type": "stream",
     "text": [
      "Por favor, lee la siguiente frase:\n",
      "Yo ofrezco desnudas, vírgenes, intactas y sencillas, para mis delicias y el placer de mis amigos, estas noches árabes vividas, soñadas y traducidas sobre su tierra natal y sobre el agua Ellas me fueron dulces durante los ocios en remotos mares, bajo un cielo ahora lejano. Por eso las doy.\n",
      "\n",
      "¡Voz obtenida!\n"
     ]
    }
   ],
   "source": [
    "import sounddevice as sd\n",
    "from scipy.io.wavfile import write\n",
    "\n",
    "fs = 44100\n",
    "sd._initialize()\n",
    "sd.default.samplerate = fs\n",
    "sd.default.channels = 2\n",
    "print(\"Por favor, lee la siguiente frase:\")\n",
    "print(\"Yo ofrezco desnudas, vírgenes, intactas y sencillas, para mis delicias y el placer de mis amigos, estas noches árabes vividas, soñadas y traducidas sobre su tierra natal y sobre el agua Ellas me fueron dulces durante los ocios en remotos mares, bajo un cielo ahora lejano. Por eso las doy.\")\n",
    "waveform = sd.rec(int(10 * fs), samplerate=fs, channels=2)\n",
    "sd.wait()\n",
    "write(\"audios/\" + user[\"username\"] + \".wav\", fs, waveform)\n",
    "print(\"\\n¡Voz obtenida!\")"
   ]
  },
  {
   "cell_type": "markdown",
   "metadata": {},
   "source": [
    "Ahora se extraen las features de la voz grabada, para ello nos ayudamos en librosa.\n",
    "Se hacen algunos ajustes en el audio para que el tratamiento sea ligero."
   ]
  },
  {
   "cell_type": "code",
   "execution_count": 5,
   "metadata": {},
   "outputs": [
    {
     "name": "stdout",
     "output_type": "stream",
     "text": [
      "\n",
      "¡Features obtenidas!\n"
     ]
    }
   ],
   "source": [
    "import librosa\n",
    "import librosa.display\n",
    "import numpy as np\n",
    "\n",
    "waveform_mono = librosa.to_mono(waveform.T)\n",
    "waveform16k_mono = librosa.resample(waveform_mono, orig_sr=fs, target_sr=16000)\n",
    "obtFeatures = np.squeeze(librosa.feature.mfcc(y=waveform16k_mono, sr=16000, n_mfcc=1)).reshape(-1,1).reshape(1,-1)\n",
    "np.savetxt(\"features/\" + user[\"username\"] + \".csv\", obtFeatures)\n",
    "print(\"\\n¡Features obtenidas!\")"
   ]
  },
  {
   "cell_type": "markdown",
   "metadata": {},
   "source": [
    "Con todos los datos necesarios conseguidos, solo queda introducirlos en la base de datos."
   ]
  },
  {
   "cell_type": "code",
   "execution_count": 6,
   "metadata": {},
   "outputs": [
    {
     "name": "stdout",
     "output_type": "stream",
     "text": [
      "¡Usuario creado!\n"
     ]
    }
   ],
   "source": [
    "try:\n",
    "    db.users.insert_one(user)\n",
    "    print(\"¡Usuario creado!\")\n",
    "except:\n",
    "    print(\"Ha ocurrido un problema\")"
   ]
  },
  {
   "cell_type": "markdown",
   "metadata": {},
   "source": [
    "Ahora hay que iniciar sesión, antes de poder hacerlo, hay que generar el modelo de prediccion de Machine Learning.\n",
    "\n",
    "Con este fin, se cargan los archivos de features, un detalle importante es preservar el orden de carga de estos archivos para saber más tarde quién es el objetivo de la predicción del modelo."
   ]
  },
  {
   "cell_type": "code",
   "execution_count": 7,
   "metadata": {},
   "outputs": [],
   "source": [
    "import os\n",
    "nameOrder = []; featureList = []\n",
    "\n",
    "for filename in os.listdir(os.getcwd() + \"/features\"):\n",
    "        features = np.loadtxt(\"features/\" + filename, delimiter=\" \")\n",
    "        featureList.append(features)\n",
    "        nameOrder.append(filename.replace(\".csv\", \"\"))"
   ]
  },
  {
   "cell_type": "markdown",
   "metadata": {},
   "source": [
    "Con las features cargadas, se genera el modelo de predicción, se usa Gaussian Mixture, un modelo muy utilizado para diferenciar el contenido de las ondas."
   ]
  },
  {
   "cell_type": "code",
   "execution_count": 8,
   "metadata": {},
   "outputs": [
    {
     "data": {
      "text/plain": [
       "GaussianMixture(covariance_type='diag', max_iter=1000, n_components=3, n_init=3,\n",
       "                reg_covar=0.1, tol=1e-08)"
      ]
     },
     "execution_count": 8,
     "metadata": {},
     "output_type": "execute_result"
    }
   ],
   "source": [
    "from sklearn.mixture import GaussianMixture\n",
    "\n",
    "gmmModel = GaussianMixture(n_components=len(featureList), covariance_type='diag',n_init=3, reg_covar=1e-1, max_iter=1000, tol=1e-8)\n",
    "gmmModel.fit(featureList)"
   ]
  },
  {
   "cell_type": "markdown",
   "metadata": {},
   "source": [
    "¡Ya está todo listo para que el usuario pueda iniciar sesión!\n",
    "\n",
    "Recordamos, hay dos condiciones para que el usuario pueda iniciar sesión, ser reconocido por el sistema y decir su contraseña única.\n",
    "\n",
    "Se graba su voz de nuevo y se extraen sus features."
   ]
  },
  {
   "cell_type": "code",
   "execution_count": 16,
   "metadata": {},
   "outputs": [
    {
     "name": "stdout",
     "output_type": "stream",
     "text": [
      "Por favor, di tu contraseña\n",
      "\n",
      "¡Contraseña obtenida!\n"
     ]
    }
   ],
   "source": [
    "from pydub import AudioSegment\n",
    "\n",
    "print(\"Por favor, di tu contraseña\")\n",
    "detectedVoice = sd.rec(int(10 * fs), samplerate=fs, channels=2)\n",
    "sd.wait()\n",
    "print(\"\\n¡Contraseña obtenida!\")\n",
    "\n",
    "write(\"features.wav\", fs, detectedVoice)\n",
    "detectedVoice_mono = librosa.to_mono(detectedVoice.T)\n",
    "detectedVoice16k_mono = librosa.resample(detectedVoice_mono, orig_sr=fs, target_sr=16000)\n",
    "detectedFeatures = np.squeeze(librosa.feature.mfcc(y=waveform16k_mono, sr=16000, n_mfcc=1)).reshape(-1,1).reshape(1,-1)"
   ]
  },
  {
   "cell_type": "markdown",
   "metadata": {},
   "source": [
    "Ahora realizamos un pequeño hack para que funcione la API de Google."
   ]
  },
  {
   "cell_type": "code",
   "execution_count": 27,
   "metadata": {},
   "outputs": [
    {
     "ename": "FileNotFoundError",
     "evalue": "[WinError 2] El sistema no puede encontrar el archivo especificado",
     "output_type": "error",
     "traceback": [
      "\u001b[1;31m---------------------------------------------------------------------------\u001b[0m",
      "\u001b[1;31mFileNotFoundError\u001b[0m                         Traceback (most recent call last)",
      "\u001b[1;32mc:\\Users\\Pepsisonico\\Downloads\\TrabajoMultimedia-main\\demo.ipynb Cell 19'\u001b[0m in \u001b[0;36m<cell line: 2>\u001b[1;34m()\u001b[0m\n\u001b[0;32m      <a href='vscode-notebook-cell:/c%3A/Users/Pepsisonico/Downloads/TrabajoMultimedia-main/demo.ipynb#ch0000024?line=0'>1</a>\u001b[0m \u001b[39m#pequeño hack para que la API de Google funcione.\u001b[39;00m\n\u001b[1;32m----> <a href='vscode-notebook-cell:/c%3A/Users/Pepsisonico/Downloads/TrabajoMultimedia-main/demo.ipynb#ch0000024?line=1'>2</a>\u001b[0m sound \u001b[39m=\u001b[39m AudioSegment\u001b[39m.\u001b[39;49mfrom_wav(\u001b[39m\"\u001b[39;49m\u001b[39mC:/Users/Pepsisonico/Downloads/TrabajoMultimedia-main/features.wav\u001b[39;49m\u001b[39m\"\u001b[39;49m)\n\u001b[0;32m      <a href='vscode-notebook-cell:/c%3A/Users/Pepsisonico/Downloads/TrabajoMultimedia-main/demo.ipynb#ch0000024?line=2'>3</a>\u001b[0m sound\u001b[39m.\u001b[39mexport(\u001b[39m\"\u001b[39m\u001b[39mspeech.wav\u001b[39m\u001b[39m\"\u001b[39m, \u001b[39mformat\u001b[39m\u001b[39m=\u001b[39m\u001b[39m\"\u001b[39m\u001b[39mwav\u001b[39m\u001b[39m\"\u001b[39m)\n",
      "File \u001b[1;32mc:\\Users\\Pepsisonico\\AppData\\Local\\Programs\\Python\\Python39\\lib\\site-packages\\pydub\\audio_segment.py:808\u001b[0m, in \u001b[0;36mAudioSegment.from_wav\u001b[1;34m(cls, file, parameters)\u001b[0m\n\u001b[0;32m    <a href='file:///c%3A/Users/Pepsisonico/AppData/Local/Programs/Python/Python39/lib/site-packages/pydub/audio_segment.py?line=805'>806</a>\u001b[0m \u001b[39m@classmethod\u001b[39m\n\u001b[0;32m    <a href='file:///c%3A/Users/Pepsisonico/AppData/Local/Programs/Python/Python39/lib/site-packages/pydub/audio_segment.py?line=806'>807</a>\u001b[0m \u001b[39mdef\u001b[39;00m \u001b[39mfrom_wav\u001b[39m(\u001b[39mcls\u001b[39m, file, parameters\u001b[39m=\u001b[39m\u001b[39mNone\u001b[39;00m):\n\u001b[1;32m--> <a href='file:///c%3A/Users/Pepsisonico/AppData/Local/Programs/Python/Python39/lib/site-packages/pydub/audio_segment.py?line=807'>808</a>\u001b[0m     \u001b[39mreturn\u001b[39;00m \u001b[39mcls\u001b[39;49m\u001b[39m.\u001b[39;49mfrom_file(file, \u001b[39m'\u001b[39;49m\u001b[39mwav\u001b[39;49m\u001b[39m'\u001b[39;49m, parameters\u001b[39m=\u001b[39;49mparameters)\n",
      "File \u001b[1;32mc:\\Users\\Pepsisonico\\AppData\\Local\\Programs\\Python\\Python39\\lib\\site-packages\\pydub\\audio_segment.py:728\u001b[0m, in \u001b[0;36mAudioSegment.from_file\u001b[1;34m(cls, file, format, codec, parameters, start_second, duration, **kwargs)\u001b[0m\n\u001b[0;32m    <a href='file:///c%3A/Users/Pepsisonico/AppData/Local/Programs/Python/Python39/lib/site-packages/pydub/audio_segment.py?line=725'>726</a>\u001b[0m     info \u001b[39m=\u001b[39m \u001b[39mNone\u001b[39;00m\n\u001b[0;32m    <a href='file:///c%3A/Users/Pepsisonico/AppData/Local/Programs/Python/Python39/lib/site-packages/pydub/audio_segment.py?line=726'>727</a>\u001b[0m \u001b[39melse\u001b[39;00m:\n\u001b[1;32m--> <a href='file:///c%3A/Users/Pepsisonico/AppData/Local/Programs/Python/Python39/lib/site-packages/pydub/audio_segment.py?line=727'>728</a>\u001b[0m     info \u001b[39m=\u001b[39m mediainfo_json(orig_file, read_ahead_limit\u001b[39m=\u001b[39;49mread_ahead_limit)\n\u001b[0;32m    <a href='file:///c%3A/Users/Pepsisonico/AppData/Local/Programs/Python/Python39/lib/site-packages/pydub/audio_segment.py?line=728'>729</a>\u001b[0m \u001b[39mif\u001b[39;00m info:\n\u001b[0;32m    <a href='file:///c%3A/Users/Pepsisonico/AppData/Local/Programs/Python/Python39/lib/site-packages/pydub/audio_segment.py?line=729'>730</a>\u001b[0m     audio_streams \u001b[39m=\u001b[39m [x \u001b[39mfor\u001b[39;00m x \u001b[39min\u001b[39;00m info[\u001b[39m'\u001b[39m\u001b[39mstreams\u001b[39m\u001b[39m'\u001b[39m]\n\u001b[0;32m    <a href='file:///c%3A/Users/Pepsisonico/AppData/Local/Programs/Python/Python39/lib/site-packages/pydub/audio_segment.py?line=730'>731</a>\u001b[0m                      \u001b[39mif\u001b[39;00m x[\u001b[39m'\u001b[39m\u001b[39mcodec_type\u001b[39m\u001b[39m'\u001b[39m] \u001b[39m==\u001b[39m \u001b[39m'\u001b[39m\u001b[39maudio\u001b[39m\u001b[39m'\u001b[39m]\n",
      "File \u001b[1;32mc:\\Users\\Pepsisonico\\AppData\\Local\\Programs\\Python\\Python39\\lib\\site-packages\\pydub\\utils.py:274\u001b[0m, in \u001b[0;36mmediainfo_json\u001b[1;34m(filepath, read_ahead_limit)\u001b[0m\n\u001b[0;32m    <a href='file:///c%3A/Users/Pepsisonico/AppData/Local/Programs/Python/Python39/lib/site-packages/pydub/utils.py?line=270'>271</a>\u001b[0m         file\u001b[39m.\u001b[39mclose()\n\u001b[0;32m    <a href='file:///c%3A/Users/Pepsisonico/AppData/Local/Programs/Python/Python39/lib/site-packages/pydub/utils.py?line=272'>273</a>\u001b[0m command \u001b[39m=\u001b[39m [prober, \u001b[39m'\u001b[39m\u001b[39m-of\u001b[39m\u001b[39m'\u001b[39m, \u001b[39m'\u001b[39m\u001b[39mjson\u001b[39m\u001b[39m'\u001b[39m] \u001b[39m+\u001b[39m command_args\n\u001b[1;32m--> <a href='file:///c%3A/Users/Pepsisonico/AppData/Local/Programs/Python/Python39/lib/site-packages/pydub/utils.py?line=273'>274</a>\u001b[0m res \u001b[39m=\u001b[39m Popen(command, stdin\u001b[39m=\u001b[39;49mstdin_parameter, stdout\u001b[39m=\u001b[39;49mPIPE, stderr\u001b[39m=\u001b[39;49mPIPE)\n\u001b[0;32m    <a href='file:///c%3A/Users/Pepsisonico/AppData/Local/Programs/Python/Python39/lib/site-packages/pydub/utils.py?line=274'>275</a>\u001b[0m output, stderr \u001b[39m=\u001b[39m res\u001b[39m.\u001b[39mcommunicate(\u001b[39minput\u001b[39m\u001b[39m=\u001b[39mstdin_data)\n\u001b[0;32m    <a href='file:///c%3A/Users/Pepsisonico/AppData/Local/Programs/Python/Python39/lib/site-packages/pydub/utils.py?line=275'>276</a>\u001b[0m output \u001b[39m=\u001b[39m output\u001b[39m.\u001b[39mdecode(\u001b[39m\"\u001b[39m\u001b[39mutf-8\u001b[39m\u001b[39m\"\u001b[39m, \u001b[39m'\u001b[39m\u001b[39mignore\u001b[39m\u001b[39m'\u001b[39m)\n",
      "File \u001b[1;32mc:\\Users\\Pepsisonico\\AppData\\Local\\Programs\\Python\\Python39\\lib\\subprocess.py:951\u001b[0m, in \u001b[0;36mPopen.__init__\u001b[1;34m(self, args, bufsize, executable, stdin, stdout, stderr, preexec_fn, close_fds, shell, cwd, env, universal_newlines, startupinfo, creationflags, restore_signals, start_new_session, pass_fds, user, group, extra_groups, encoding, errors, text, umask)\u001b[0m\n\u001b[0;32m    <a href='file:///c%3A/Users/Pepsisonico/AppData/Local/Programs/Python/Python39/lib/subprocess.py?line=946'>947</a>\u001b[0m         \u001b[39mif\u001b[39;00m \u001b[39mself\u001b[39m\u001b[39m.\u001b[39mtext_mode:\n\u001b[0;32m    <a href='file:///c%3A/Users/Pepsisonico/AppData/Local/Programs/Python/Python39/lib/subprocess.py?line=947'>948</a>\u001b[0m             \u001b[39mself\u001b[39m\u001b[39m.\u001b[39mstderr \u001b[39m=\u001b[39m io\u001b[39m.\u001b[39mTextIOWrapper(\u001b[39mself\u001b[39m\u001b[39m.\u001b[39mstderr,\n\u001b[0;32m    <a href='file:///c%3A/Users/Pepsisonico/AppData/Local/Programs/Python/Python39/lib/subprocess.py?line=948'>949</a>\u001b[0m                     encoding\u001b[39m=\u001b[39mencoding, errors\u001b[39m=\u001b[39merrors)\n\u001b[1;32m--> <a href='file:///c%3A/Users/Pepsisonico/AppData/Local/Programs/Python/Python39/lib/subprocess.py?line=950'>951</a>\u001b[0m     \u001b[39mself\u001b[39;49m\u001b[39m.\u001b[39;49m_execute_child(args, executable, preexec_fn, close_fds,\n\u001b[0;32m    <a href='file:///c%3A/Users/Pepsisonico/AppData/Local/Programs/Python/Python39/lib/subprocess.py?line=951'>952</a>\u001b[0m                         pass_fds, cwd, env,\n\u001b[0;32m    <a href='file:///c%3A/Users/Pepsisonico/AppData/Local/Programs/Python/Python39/lib/subprocess.py?line=952'>953</a>\u001b[0m                         startupinfo, creationflags, shell,\n\u001b[0;32m    <a href='file:///c%3A/Users/Pepsisonico/AppData/Local/Programs/Python/Python39/lib/subprocess.py?line=953'>954</a>\u001b[0m                         p2cread, p2cwrite,\n\u001b[0;32m    <a href='file:///c%3A/Users/Pepsisonico/AppData/Local/Programs/Python/Python39/lib/subprocess.py?line=954'>955</a>\u001b[0m                         c2pread, c2pwrite,\n\u001b[0;32m    <a href='file:///c%3A/Users/Pepsisonico/AppData/Local/Programs/Python/Python39/lib/subprocess.py?line=955'>956</a>\u001b[0m                         errread, errwrite,\n\u001b[0;32m    <a href='file:///c%3A/Users/Pepsisonico/AppData/Local/Programs/Python/Python39/lib/subprocess.py?line=956'>957</a>\u001b[0m                         restore_signals,\n\u001b[0;32m    <a href='file:///c%3A/Users/Pepsisonico/AppData/Local/Programs/Python/Python39/lib/subprocess.py?line=957'>958</a>\u001b[0m                         gid, gids, uid, umask,\n\u001b[0;32m    <a href='file:///c%3A/Users/Pepsisonico/AppData/Local/Programs/Python/Python39/lib/subprocess.py?line=958'>959</a>\u001b[0m                         start_new_session)\n\u001b[0;32m    <a href='file:///c%3A/Users/Pepsisonico/AppData/Local/Programs/Python/Python39/lib/subprocess.py?line=959'>960</a>\u001b[0m \u001b[39mexcept\u001b[39;00m:\n\u001b[0;32m    <a href='file:///c%3A/Users/Pepsisonico/AppData/Local/Programs/Python/Python39/lib/subprocess.py?line=960'>961</a>\u001b[0m     \u001b[39m# Cleanup if the child failed starting.\u001b[39;00m\n\u001b[0;32m    <a href='file:///c%3A/Users/Pepsisonico/AppData/Local/Programs/Python/Python39/lib/subprocess.py?line=961'>962</a>\u001b[0m     \u001b[39mfor\u001b[39;00m f \u001b[39min\u001b[39;00m \u001b[39mfilter\u001b[39m(\u001b[39mNone\u001b[39;00m, (\u001b[39mself\u001b[39m\u001b[39m.\u001b[39mstdin, \u001b[39mself\u001b[39m\u001b[39m.\u001b[39mstdout, \u001b[39mself\u001b[39m\u001b[39m.\u001b[39mstderr)):\n",
      "File \u001b[1;32mc:\\Users\\Pepsisonico\\AppData\\Local\\Programs\\Python\\Python39\\lib\\subprocess.py:1420\u001b[0m, in \u001b[0;36mPopen._execute_child\u001b[1;34m(self, args, executable, preexec_fn, close_fds, pass_fds, cwd, env, startupinfo, creationflags, shell, p2cread, p2cwrite, c2pread, c2pwrite, errread, errwrite, unused_restore_signals, unused_gid, unused_gids, unused_uid, unused_umask, unused_start_new_session)\u001b[0m\n\u001b[0;32m   <a href='file:///c%3A/Users/Pepsisonico/AppData/Local/Programs/Python/Python39/lib/subprocess.py?line=1417'>1418</a>\u001b[0m \u001b[39m# Start the process\u001b[39;00m\n\u001b[0;32m   <a href='file:///c%3A/Users/Pepsisonico/AppData/Local/Programs/Python/Python39/lib/subprocess.py?line=1418'>1419</a>\u001b[0m \u001b[39mtry\u001b[39;00m:\n\u001b[1;32m-> <a href='file:///c%3A/Users/Pepsisonico/AppData/Local/Programs/Python/Python39/lib/subprocess.py?line=1419'>1420</a>\u001b[0m     hp, ht, pid, tid \u001b[39m=\u001b[39m _winapi\u001b[39m.\u001b[39;49mCreateProcess(executable, args,\n\u001b[0;32m   <a href='file:///c%3A/Users/Pepsisonico/AppData/Local/Programs/Python/Python39/lib/subprocess.py?line=1420'>1421</a>\u001b[0m                              \u001b[39m# no special security\u001b[39;49;00m\n\u001b[0;32m   <a href='file:///c%3A/Users/Pepsisonico/AppData/Local/Programs/Python/Python39/lib/subprocess.py?line=1421'>1422</a>\u001b[0m                              \u001b[39mNone\u001b[39;49;00m, \u001b[39mNone\u001b[39;49;00m,\n\u001b[0;32m   <a href='file:///c%3A/Users/Pepsisonico/AppData/Local/Programs/Python/Python39/lib/subprocess.py?line=1422'>1423</a>\u001b[0m                              \u001b[39mint\u001b[39;49m(\u001b[39mnot\u001b[39;49;00m close_fds),\n\u001b[0;32m   <a href='file:///c%3A/Users/Pepsisonico/AppData/Local/Programs/Python/Python39/lib/subprocess.py?line=1423'>1424</a>\u001b[0m                              creationflags,\n\u001b[0;32m   <a href='file:///c%3A/Users/Pepsisonico/AppData/Local/Programs/Python/Python39/lib/subprocess.py?line=1424'>1425</a>\u001b[0m                              env,\n\u001b[0;32m   <a href='file:///c%3A/Users/Pepsisonico/AppData/Local/Programs/Python/Python39/lib/subprocess.py?line=1425'>1426</a>\u001b[0m                              cwd,\n\u001b[0;32m   <a href='file:///c%3A/Users/Pepsisonico/AppData/Local/Programs/Python/Python39/lib/subprocess.py?line=1426'>1427</a>\u001b[0m                              startupinfo)\n\u001b[0;32m   <a href='file:///c%3A/Users/Pepsisonico/AppData/Local/Programs/Python/Python39/lib/subprocess.py?line=1427'>1428</a>\u001b[0m \u001b[39mfinally\u001b[39;00m:\n\u001b[0;32m   <a href='file:///c%3A/Users/Pepsisonico/AppData/Local/Programs/Python/Python39/lib/subprocess.py?line=1428'>1429</a>\u001b[0m     \u001b[39m# Child is launched. Close the parent's copy of those pipe\u001b[39;00m\n\u001b[0;32m   <a href='file:///c%3A/Users/Pepsisonico/AppData/Local/Programs/Python/Python39/lib/subprocess.py?line=1429'>1430</a>\u001b[0m     \u001b[39m# handles that only the child should have open.  You need\u001b[39;00m\n\u001b[1;32m   (...)\u001b[0m\n\u001b[0;32m   <a href='file:///c%3A/Users/Pepsisonico/AppData/Local/Programs/Python/Python39/lib/subprocess.py?line=1432'>1433</a>\u001b[0m     \u001b[39m# pipe will not close when the child process exits and the\u001b[39;00m\n\u001b[0;32m   <a href='file:///c%3A/Users/Pepsisonico/AppData/Local/Programs/Python/Python39/lib/subprocess.py?line=1433'>1434</a>\u001b[0m     \u001b[39m# ReadFile will hang.\u001b[39;00m\n\u001b[0;32m   <a href='file:///c%3A/Users/Pepsisonico/AppData/Local/Programs/Python/Python39/lib/subprocess.py?line=1434'>1435</a>\u001b[0m     \u001b[39mself\u001b[39m\u001b[39m.\u001b[39m_close_pipe_fds(p2cread, p2cwrite,\n\u001b[0;32m   <a href='file:///c%3A/Users/Pepsisonico/AppData/Local/Programs/Python/Python39/lib/subprocess.py?line=1435'>1436</a>\u001b[0m                          c2pread, c2pwrite,\n\u001b[0;32m   <a href='file:///c%3A/Users/Pepsisonico/AppData/Local/Programs/Python/Python39/lib/subprocess.py?line=1436'>1437</a>\u001b[0m                          errread, errwrite)\n",
      "\u001b[1;31mFileNotFoundError\u001b[0m: [WinError 2] El sistema no puede encontrar el archivo especificado"
     ]
    }
   ],
   "source": [
    "#pequeño hack para que la API de Google funcione.\n",
    "sound = AudioSegment.from_wav(\"C:/Users/Pepsisonico/Downloads/TrabajoMultimedia-main/features.wav\")\n",
    "sound.export(\"speech.wav\", format=\"wav\")"
   ]
  },
  {
   "cell_type": "markdown",
   "metadata": {},
   "source": [
    "Con las features obtenidas, el sistema detecta quién es y qué ha dicho."
   ]
  },
  {
   "cell_type": "code",
   "execution_count": null,
   "metadata": {},
   "outputs": [
    {
     "name": "stdout",
     "output_type": "stream",
     "text": [
      "\n",
      "¡Usuario detectado: Luis!\n"
     ]
    },
    {
     "ename": "AssertionError",
     "evalue": "``audio_data`` must be audio data",
     "output_type": "error",
     "traceback": [
      "\u001b[1;31m---------------------------------------------------------------------------\u001b[0m",
      "\u001b[1;31mAssertionError\u001b[0m                            Traceback (most recent call last)",
      "\u001b[1;32mc:\\Users\\Pepsisonico\\Downloads\\TrabajoMultimedia-main\\demo.ipynb Cell 19'\u001b[0m in \u001b[0;36m<cell line: 10>\u001b[1;34m()\u001b[0m\n\u001b[0;32m      <a href='vscode-notebook-cell:/c%3A/Users/Pepsisonico/Downloads/TrabajoMultimedia-main/demo.ipynb#ch0000018?line=7'>8</a>\u001b[0m \u001b[39m#Detección de contraseña por voz\u001b[39;00m\n\u001b[0;32m      <a href='vscode-notebook-cell:/c%3A/Users/Pepsisonico/Downloads/TrabajoMultimedia-main/demo.ipynb#ch0000018?line=8'>9</a>\u001b[0m speech_to_text \u001b[39m=\u001b[39m sr\u001b[39m.\u001b[39mRecognizer()\n\u001b[1;32m---> <a href='vscode-notebook-cell:/c%3A/Users/Pepsisonico/Downloads/TrabajoMultimedia-main/demo.ipynb#ch0000018?line=9'>10</a>\u001b[0m transcription \u001b[39m=\u001b[39m speech_to_text\u001b[39m.\u001b[39;49mrecognize_google(detectedVoice, language\u001b[39m=\u001b[39;49m\u001b[39m\"\u001b[39;49m\u001b[39mes-ES\u001b[39;49m\u001b[39m\"\u001b[39;49m)\n",
      "File \u001b[1;32mc:\\Users\\Pepsisonico\\AppData\\Local\\Programs\\Python\\Python39\\lib\\site-packages\\speech_recognition\\__init__.py:822\u001b[0m, in \u001b[0;36mRecognizer.recognize_google\u001b[1;34m(self, audio_data, key, language, show_all)\u001b[0m\n\u001b[0;32m    <a href='file:///c%3A/Users/Pepsisonico/AppData/Local/Programs/Python/Python39/lib/site-packages/speech_recognition/__init__.py?line=807'>808</a>\u001b[0m \u001b[39mdef\u001b[39;00m \u001b[39mrecognize_google\u001b[39m(\u001b[39mself\u001b[39m, audio_data, key\u001b[39m=\u001b[39m\u001b[39mNone\u001b[39;00m, language\u001b[39m=\u001b[39m\u001b[39m\"\u001b[39m\u001b[39men-US\u001b[39m\u001b[39m\"\u001b[39m, show_all\u001b[39m=\u001b[39m\u001b[39mFalse\u001b[39;00m):\n\u001b[0;32m    <a href='file:///c%3A/Users/Pepsisonico/AppData/Local/Programs/Python/Python39/lib/site-packages/speech_recognition/__init__.py?line=808'>809</a>\u001b[0m     \u001b[39m\"\"\"\u001b[39;00m\n\u001b[0;32m    <a href='file:///c%3A/Users/Pepsisonico/AppData/Local/Programs/Python/Python39/lib/site-packages/speech_recognition/__init__.py?line=809'>810</a>\u001b[0m \u001b[39m    Performs speech recognition on ``audio_data`` (an ``AudioData`` instance), using the Google Speech Recognition API.\u001b[39;00m\n\u001b[0;32m    <a href='file:///c%3A/Users/Pepsisonico/AppData/Local/Programs/Python/Python39/lib/site-packages/speech_recognition/__init__.py?line=810'>811</a>\u001b[0m \n\u001b[1;32m   (...)\u001b[0m\n\u001b[0;32m    <a href='file:///c%3A/Users/Pepsisonico/AppData/Local/Programs/Python/Python39/lib/site-packages/speech_recognition/__init__.py?line=819'>820</a>\u001b[0m \u001b[39m    Raises a ``speech_recognition.UnknownValueError`` exception if the speech is unintelligible. Raises a ``speech_recognition.RequestError`` exception if the speech recognition operation failed, if the key isn't valid, or if there is no internet connection.\u001b[39;00m\n\u001b[0;32m    <a href='file:///c%3A/Users/Pepsisonico/AppData/Local/Programs/Python/Python39/lib/site-packages/speech_recognition/__init__.py?line=820'>821</a>\u001b[0m \u001b[39m    \"\"\"\u001b[39;00m\n\u001b[1;32m--> <a href='file:///c%3A/Users/Pepsisonico/AppData/Local/Programs/Python/Python39/lib/site-packages/speech_recognition/__init__.py?line=821'>822</a>\u001b[0m     \u001b[39massert\u001b[39;00m \u001b[39misinstance\u001b[39m(audio_data, AudioData), \u001b[39m\"\u001b[39m\u001b[39m``audio_data`` must be audio data\u001b[39m\u001b[39m\"\u001b[39m\n\u001b[0;32m    <a href='file:///c%3A/Users/Pepsisonico/AppData/Local/Programs/Python/Python39/lib/site-packages/speech_recognition/__init__.py?line=822'>823</a>\u001b[0m     \u001b[39massert\u001b[39;00m key \u001b[39mis\u001b[39;00m \u001b[39mNone\u001b[39;00m \u001b[39mor\u001b[39;00m \u001b[39misinstance\u001b[39m(key, \u001b[39mstr\u001b[39m), \u001b[39m\"\u001b[39m\u001b[39m``key`` must be ``None`` or a string\u001b[39m\u001b[39m\"\u001b[39m\n\u001b[0;32m    <a href='file:///c%3A/Users/Pepsisonico/AppData/Local/Programs/Python/Python39/lib/site-packages/speech_recognition/__init__.py?line=823'>824</a>\u001b[0m     \u001b[39massert\u001b[39;00m \u001b[39misinstance\u001b[39m(language, \u001b[39mstr\u001b[39m), \u001b[39m\"\u001b[39m\u001b[39m``language`` must be a string\u001b[39m\u001b[39m\"\u001b[39m\n",
      "\u001b[1;31mAssertionError\u001b[0m: ``audio_data`` must be audio data"
     ]
    }
   ],
   "source": [
    "import speech_recognition as sr\n",
    "import unidecode\n",
    "\n",
    "#Detección de usuario por voz\n",
    "predictedUser = nameOrder[gmmModel.predict(detectedFeatures)[0]]\n",
    "print(\"\\n¡Usuario detectado: \" + predictedUser + \"!\")\n",
    "\n",
    "#Detección de contraseña por voz\n",
    "speech_to_text = sr.Recognizer()\n",
    "audio = sr.AudioFile('speech.wav')\n",
    "audio = speech_to_text.record(audio)\n",
    "transcription = speech_to_text.recognize_google(audio, language=\"es-ES\")"
   ]
  },
  {
   "cell_type": "markdown",
   "metadata": {},
   "source": [
    "Ahora se comprueba en la base de datos si hay alguna coincidencia.\n",
    "\n",
    "Para esto, se ve si la contraseña registrada en la base de datos tiene una alta similitud con la transcrita por Google."
   ]
  },
  {
   "cell_type": "code",
   "execution_count": null,
   "metadata": {},
   "outputs": [],
   "source": [
    "from difflib import SequenceMatcher\n",
    "\n",
    "correctUser = None\n",
    "\n",
    "for foundUser in db.users.find({\"username\": predictedUser}):\n",
    "    ratio = SequenceMatcher(None, unidecode.unidecode(foundUser[\"password\"].lower()), unidecode.unidecode(transcription.lower())).ratio()\n",
    "    if ratio >= 0.8: correctUser = foundUser\n",
    "\n",
    "if foundUser:\n",
    "    user[\"username\"] = foundUser[\"username\"]\n",
    "    user[\"password\"] = foundUser[\"password\"]\n",
    "    user[\"email\"] = foundUser[\"email\"]"
   ]
  },
  {
   "cell_type": "markdown",
   "metadata": {},
   "source": [
    "Si el usuario ha sido reconocido, éste puede realizar diferentes acciones, desde la gestión de credenciales hasta el envío de correos electrónicos."
   ]
  },
  {
   "cell_type": "code",
   "execution_count": null,
   "metadata": {},
   "outputs": [],
   "source": [
    "from redmail import gmail\n",
    "\n",
    "gmail.username = \"diego.diegogz.gallardo53@gmail.com\"\n",
    "gmail.password = \"xkdpshvcnlnscnhv\"\n",
    "print(\"Por favor introduce el asunto del correo texto a enviar\")\n",
    "subject = input()\n",
    "print(\"Por favor introduce el destinatario del correo\")\n",
    "receiver = input()\n",
    "print(\"Por favor introduce el contenido a enviar\")\n",
    "text = input()\n",
    "gmail.send(subject=subject, receivers = [receiver], text = text, html = text)    "
   ]
  }
 ],
 "metadata": {
  "interpreter": {
   "hash": "83476b3625344fd084ab6755f41b74c352d25ac25b592d9f546b460f5fa7f5a9"
  },
  "kernelspec": {
   "display_name": "Python 3.9.7 64-bit",
   "language": "python",
   "name": "python3"
  },
  "language_info": {
   "codemirror_mode": {
    "name": "ipython",
    "version": 3
   },
   "file_extension": ".py",
   "mimetype": "text/x-python",
   "name": "python",
   "nbconvert_exporter": "python",
   "pygments_lexer": "ipython3",
   "version": "3.9.7"
  },
  "orig_nbformat": 4
 },
 "nbformat": 4,
 "nbformat_minor": 2
}
