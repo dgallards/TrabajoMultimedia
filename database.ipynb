{
 "cells": [
  {
   "cell_type": "code",
   "execution_count": 1,
   "metadata": {},
   "outputs": [],
   "source": [
    "def connect_to_database():\n",
    "    from pymongo import MongoClient\n",
    "    server = MongoClient('localhost', 27017)\n",
    "    return server"
   ]
  },
  {
   "cell_type": "code",
   "execution_count": null,
   "metadata": {},
   "outputs": [],
   "source": [
    "def addUser(db, user):\n",
    "    db.users.insert_one(user)"
   ]
  },
  {
   "cell_type": "code",
   "execution_count": null,
   "metadata": {},
   "outputs": [],
   "source": [
    "#create a new user json object\n",
    "def createUser(name, email, password):\n",
    "    import hashlib\n",
    "    hash = hashlib.md5(password).hexdigest()\n",
    "    user = {\n",
    "        \"name\": name,\n",
    "        \"email\": email,\n",
    "        \"password\": hash\n",
    "    }\n",
    "    return user"
   ]
  },
  {
   "cell_type": "code",
   "execution_count": null,
   "metadata": {},
   "outputs": [],
   "source": [
    "#delete a user from the database\n",
    "def deleteUser(db, name):\n",
    "    db.users.delete_one({\"name\": name})"
   ]
  },
  {
   "cell_type": "code",
   "execution_count": null,
   "metadata": {},
   "outputs": [],
   "source": [
    "#find a user in the database\n",
    "def findUser(db, name):\n",
    "    user = db.users.find_one({\"name\": name})\n",
    "    return user\n"
   ]
  },
  {
   "cell_type": "code",
   "execution_count": null,
   "metadata": {},
   "outputs": [],
   "source": [
    "#return a user password from the database\n",
    "def getUserPassword(db, name):\n",
    "    user = db.users.find_one({\"name\": name})\n",
    "    return user[\"password\"]"
   ]
  },
  {
   "cell_type": "code",
   "execution_count": null,
   "metadata": {},
   "outputs": [],
   "source": [
    "#compare a user password with the one in the database\n",
    "def compareUserPassword(db, name, password):\n",
    "    import hashlib\n",
    "    hash = hashlib.md5(password).hexdigest()\n",
    "    user = db.users.find_one({\"name\": name})\n",
    "    return user[\"password\"] == hash"
   ]
  },
  {
   "cell_type": "code",
   "execution_count": null,
   "metadata": {},
   "outputs": [],
   "source": [
    "def numberOfUsers(db):\n",
    "    return db.users.count()"
   ]
  }
 ],
 "metadata": {
  "interpreter": {
   "hash": "80b5f02c2d175cbef270923f0d819f10eee6f60f93c56d3d36e3eae1f1b9f190"
  },
  "kernelspec": {
   "display_name": "Python 3.9.7 ('arqesp')",
   "language": "python",
   "name": "python3"
  },
  "language_info": {
   "codemirror_mode": {
    "name": "ipython",
    "version": 3
   },
   "file_extension": ".py",
   "mimetype": "text/x-python",
   "name": "python",
   "nbconvert_exporter": "python",
   "pygments_lexer": "ipython3",
   "version": "3.9.7"
  },
  "orig_nbformat": 4
 },
 "nbformat": 4,
 "nbformat_minor": 2
}
