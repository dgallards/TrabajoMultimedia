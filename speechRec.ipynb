{
 "cells": [
  {
   "cell_type": "code",
   "execution_count": 34,
   "metadata": {},
   "outputs": [
    {
     "name": "stdout",
     "output_type": "stream",
     "text": [
      "{'_id': ObjectId('6245bfa735b254943391ad22'), 'name': 'Johnas', 'password': '12343'}\n"
     ]
    }
   ],
   "source": [
    "#connect to our mongoDB database\n",
    "from pymongo import MongoClient\n",
    "\n",
    "server = MongoClient()\n",
    "\n",
    "server = MongoClient('localhost', 27017)"
   ]
  },
  {
   "cell_type": "code",
   "execution_count": 45,
   "metadata": {},
   "outputs": [
    {
     "name": "stdout",
     "output_type": "stream",
     "text": [
      "['admin', 'config', 'local', 'users']\n"
     ]
    }
   ],
   "source": [
    "#list all the databases in the mongoDB server\n",
    "print(server.list_database_names())"
   ]
  },
  {
   "cell_type": "code",
   "execution_count": 44,
   "metadata": {},
   "outputs": [],
   "source": [
    "#delete a database from the mongoDB server\n",
    "server.drop_database('newdb')"
   ]
  },
  {
   "cell_type": "code",
   "execution_count": null,
   "metadata": {},
   "outputs": [],
   "source": [
    "#create new db called 'users'\n",
    "\n",
    "db = server.users"
   ]
  },
  {
   "cell_type": "code",
   "execution_count": 35,
   "metadata": {},
   "outputs": [
    {
     "name": "stdout",
     "output_type": "stream",
     "text": [
      "81dc9bdb52d04dc20036dbd8313ed055\n"
     ]
    }
   ],
   "source": [
    "#convert a string to hash\n",
    "import hashlib\n",
    "hash = hashlib.md5(b\"1234\").hexdigest()\n",
    "print(hash)"
   ]
  },
  {
   "cell_type": "code",
   "execution_count": 36,
   "metadata": {},
   "outputs": [],
   "source": [
    "#create a default user json\n",
    "user = {\n",
    "    \"name\": \"Johnas\",\n",
    "    \"password\": hash,\n",
    "}"
   ]
  },
  {
   "cell_type": "code",
   "execution_count": 41,
   "metadata": {},
   "outputs": [
    {
     "data": {
      "text/plain": [
       "<pymongo.results.InsertOneResult at 0x7f567da8c9c0>"
      ]
     },
     "execution_count": 41,
     "metadata": {},
     "output_type": "execute_result"
    }
   ],
   "source": [
    "#insert the user into the database\n",
    "\n",
    "db.users.insert_one(user)"
   ]
  },
  {
   "cell_type": "code",
   "execution_count": 47,
   "metadata": {},
   "outputs": [
    {
     "name": "stdout",
     "output_type": "stream",
     "text": [
      "{'_id': ObjectId('6245c0b835b254943391ad23'), 'name': 'John', 'password': '81dc9bdb52d04dc20036dbd8313ed055'}\n"
     ]
    }
   ],
   "source": [
    "#list all users in the database\n",
    "\n",
    "for user in db.users.find():\n",
    "    print(user)"
   ]
  },
  {
   "cell_type": "code",
   "execution_count": 39,
   "metadata": {},
   "outputs": [],
   "source": [
    "#delete all users in the database\n",
    "\n",
    "for user in db.users.find():\n",
    "    db.users.delete_one(user)"
   ]
  },
  {
   "cell_type": "code",
   "execution_count": null,
   "metadata": {},
   "outputs": [],
   "source": [
    "#find a user in the database\n",
    "for user in db.users.find({\"name\": \"Johnas\"}):\n",
    "    print(user)"
   ]
  },
  {
   "cell_type": "code",
   "execution_count": null,
   "metadata": {},
   "outputs": [],
   "source": [
    "#delete a user in the database\n",
    "for user in db.users.find({\"name\": \"Johnas\"}):\n",
    "    db.users.delete_one(user)"
   ]
  },
  {
   "cell_type": "code",
   "execution_count": 46,
   "metadata": {},
   "outputs": [],
   "source": [
    "#update a user in the database\n",
    "for user in db.users.find({\"name\": \"Johnas\"}):\n",
    "    db.users.update_one(user, {\"$set\": {\"name\": \"John\"}})"
   ]
  },
  {
   "cell_type": "code",
   "execution_count": 49,
   "metadata": {},
   "outputs": [],
   "source": [
    "import speech_recognition as sr\n",
    "\n",
    "r = sr.Recognizer()\n"
   ]
  },
  {
   "cell_type": "code",
   "execution_count": 77,
   "metadata": {},
   "outputs": [],
   "source": [
    "#record for 5 seconds and save it to a file\n",
    "import sounddevice as sd\n",
    " \n",
    "fs = 44100\n",
    "sd.default.samplerate = fs\n",
    "sd.default.channels = 2\n",
    " \n",
    "duration = 5  # seconds\n",
    "myrecording = sd.rec(int(duration * fs ), samplerate=fs, channels=2)\n",
    "\n",
    "sd.wait()\n",
    "\n",
    "#save myrecording to a file\n",
    "from scipy.io.wavfile import write\n",
    "write('myrecording.wav', fs, myrecording)\n",
    "\n"
   ]
  },
  {
   "cell_type": "code",
   "execution_count": 78,
   "metadata": {},
   "outputs": [],
   "source": [
    "#convert myrecording to .wav\n",
    "from pydub import AudioSegment\n",
    "sound = AudioSegment.from_wav(\"myrecording.wav\")\n",
    "sound.export(\"myrecording.wav\", format=\"wav\")\n",
    "\n",
    "audio = sr.AudioFile('myrecording.wav')\n",
    "with audio as source:\n",
    "    audio = r.record(source)"
   ]
  },
  {
   "cell_type": "code",
   "execution_count": 79,
   "metadata": {},
   "outputs": [
    {
     "data": {
      "text/plain": [
       "\"any hello what's up\""
      ]
     },
     "execution_count": 79,
     "metadata": {},
     "output_type": "execute_result"
    }
   ],
   "source": [
    "\n",
    "r.recognize_google(audio)"
   ]
  }
 ],
 "metadata": {
  "interpreter": {
   "hash": "80b5f02c2d175cbef270923f0d819f10eee6f60f93c56d3d36e3eae1f1b9f190"
  },
  "kernelspec": {
   "display_name": "Python 3.9.7 ('arqesp')",
   "language": "python",
   "name": "python3"
  },
  "language_info": {
   "codemirror_mode": {
    "name": "ipython",
    "version": 3
   },
   "file_extension": ".py",
   "mimetype": "text/x-python",
   "name": "python",
   "nbconvert_exporter": "python",
   "pygments_lexer": "ipython3",
   "version": "3.9.7"
  },
  "orig_nbformat": 4
 },
 "nbformat": 4,
 "nbformat_minor": 2
}
