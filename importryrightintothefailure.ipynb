{
 "cells": [
  {
   "cell_type": "markdown",
   "metadata": {},
   "source": [
    "*Autenticación de hablante en base a entrada de audio\n",
    "\n",
    "El objetivo de este notebook es la creación de una red neuronal convolucional capaz de distinguir entre parlantes en base al audio entrante y discernir si alguno de ellos es conocido en la base de datos.\n",
    "\n",
    "Para conseguir esto, primero se preprocesará el audio, tras lo cual se extraerán las MFCC features, que serán las que se utilicen para la red neuronal.\n",
    "Luego se cargará el dataset de voces conocidas usadas para entrenar la red neuronal junto con la nueva entrada de audio.\n",
    "Tras eso, se entrenará la red neuronal con los datos de entrenamiento y se evaluará con los datos de test. Si la salida coincide con uno de los usuarios almacenados en la base de datos."
   ]
  },
  {
   "cell_type": "code",
   "execution_count": 1,
   "metadata": {},
   "outputs": [
    {
     "name": "stdout",
     "output_type": "stream",
     "text": [
      "importing Jupyter notebook from featureExtraction.ipynb\n"
     ]
    },
    {
     "name": "stderr",
     "output_type": "stream",
     "text": [
      "<string>:12: WavFileWarning: Chunk (non-data) not understood, skipping it.\n"
     ]
    }
   ],
   "source": [
    "#load the information from data folder\n",
    "import python_speech_features as mfcc\n",
    "from sklearn import preprocessing\n",
    "import numpy as np\n",
    "import matplotlib.pyplot as plt\n",
    "from matplotlib import cm\n",
    "from scipy.io import wavfile\n",
    "import import_ipynb\n",
    "from featureExtraction import extract_features"
   ]
  },
  {
   "cell_type": "markdown",
   "metadata": {},
   "source": [
    "Calculates the delta of a given mfcc features array.\n",
    "\n",
    "A delta is a coefficient that helps compute and recognize speech patterns much more easily using the MFCC features.\n",
    "\n",
    "The formula used to calculate the delta is: dt=∑Nn=1n(ct+n−ct−n)2∑Nn=1n2, where ct is the current MFCC feature, n is the number of the MFCC feature and dt is the delta of the MFCC feature."
   ]
  },
  {
   "cell_type": "markdown",
   "metadata": {},
   "source": [
    "First, it preprocesses a given audio, then it extracts the MFCC features and calculates the delta of the features.\n",
    "\n",
    "Both the MFCC and the delta are returned in a single 2D array."
   ]
  },
  {
   "cell_type": "code",
   "execution_count": 27,
   "metadata": {},
   "outputs": [
    {
     "name": "stdout",
     "output_type": "stream",
     "text": [
      "(999, 40)\n",
      "(999, 40)\n",
      "(999, 40)\n",
      "(999, 40)\n",
      "pd - sd  1.9068991949883658\n",
      "pd - pl  1.765487914116346\n",
      "sd - pl  1.9560040504993137\n",
      "sd - sl  1.8569774663507883\n",
      "pl - sl  1.8771543814432141\n"
     ]
    }
   ],
   "source": [
    "frequency_sampling, audio_signal = wavfile.read(\"myrecording.wav\")\n",
    "\n",
    "primeraDiego = extract_features(audio_signal, frequency_sampling)\n",
    "print(primeraDiego.shape)\n",
    "\n",
    "frequency_sampling, audio_signal = wavfile.read(\"myrecording2.wav\")\n",
    "\n",
    "segundaDiego = extract_features(audio_signal, frequency_sampling)\n",
    "print(segundaDiego.shape)\n",
    "\n",
    "frequency_sampling, audio_signal = wavfile.read(\"myrecording3.wav\")\n",
    "\n",
    "primeraLuis = extract_features(audio_signal, frequency_sampling)\n",
    "print(primeraLuis.shape)\n",
    "\n",
    "frequency_sampling, audio_signal = wavfile.read(\"myrecording4.wav\")\n",
    "\n",
    "segundaLuis = extract_features(audio_signal, frequency_sampling)\n",
    "print(segundaLuis.shape)\n",
    "\n",
    "#compare two mfcc feature vectors\n",
    "\n",
    "\n",
    "print(\"pd - sd \", ((primeraDiego[:,:20] - segundaDiego[:,:20])**2).mean())\n",
    "\n",
    "print(\"pd - pl \", ((primeraDiego[:,:20] - primeraLuis[:,:20])**2).mean())\n",
    "\n",
    "print(\"sd - pl \", ((segundaDiego[:,:20] - primeraLuis[:,:20])**2).mean())\n",
    "\n",
    "print(\"sd - sl \", ((segundaDiego[:,:20] - segundaLuis[:,:20])**2).mean())\n",
    "\n",
    "print(\"pl - sl \", ((primeraLuis[:,:20] - segundaLuis[:,:20])**2).mean())\n",
    "\n"
   ]
  }
 ],
 "metadata": {
  "kernelspec": {
   "display_name": "Python 3",
   "language": "python",
   "name": "python3"
  },
  "language_info": {
   "codemirror_mode": {
    "name": "ipython",
    "version": 3
   },
   "file_extension": ".py",
   "mimetype": "text/x-python",
   "name": "python",
   "nbconvert_exporter": "python",
   "pygments_lexer": "ipython3",
   "version": "3.9.7"
  }
 },
 "nbformat": 4,
 "nbformat_minor": 2
}
